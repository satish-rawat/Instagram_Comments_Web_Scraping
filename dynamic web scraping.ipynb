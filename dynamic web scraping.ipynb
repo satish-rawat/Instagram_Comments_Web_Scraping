{
 "cells": [
  {
   "cell_type": "markdown",
   "metadata": {},
   "source": [
    "# Web Scraping Youtube Comments Using selenium Only\n"
   ]
  },
  {
   "cell_type": "code",
   "execution_count": 10,
   "metadata": {},
   "outputs": [
    {
     "name": "stdout",
     "output_type": "stream",
     "text": [
      "What's up Notification Squad! The Mi A3 starts at Rs. 12,999 and we think it's a decent price. What do you guys think? 🤔\n",
      "You can't be happy and sad together\n",
      "Mi : mia3 display\n",
      "Apple 10r is accepted for 720p but mi is not lol\n",
      "They should make the Google Camera App inbuilt\n",
      "That would have made it a perfect phone for me if it had a 1080p display and sd675. I would have paid 2-3k higher for it\n",
      "0:00 to 0:05...creativity at it's best\n",
      "HOW MANY CONFUSED TO BUY SMARTPHONES.\n",
      "HD+ super AMOLED display is far better than FHD IPS display.\n",
      "I can live with 720p with AMOLED. It's one of the best phones under 12,000 pesos.\n",
      "Beebom is the MKBHD of India, quality videos on time 🔥\n",
      "I love your channel, and I am from Portugal 😄. Continue the excellent work.\n",
      "It can protecc\n",
      "It can attacc\n",
      "But most importantly\n",
      "The headphone jacc is bacc\n",
      "Their videos are best viewed at 1.25x or 1.5x speed.\n",
      "Instead of the 6GB variant, go for realme X..\n",
      "If it was Full HD Amoled display, priced at 14k for base variant. Then it would have killed most of the phones in budget category.\n",
      "Well i don't hate mi A3\n",
      "\n",
      "\n",
      "\n",
      "\n",
      "\n",
      "\n",
      "But they brought a living example of how to be \n",
      "It's too much trending phone, I think I should get it for making a video on YouTube channel 🤔\n",
      "Poco F2 should arrive with Android one.\n",
      "Period.\n",
      "2:37 The difference b/w Amoled and IPS LCD. Maybe now it's clear to those who say that Amoled and IPS LCD is the same🤦‍♀️\n",
      "Thankgod. You told clearly about 720p screen.\n",
      "No other YouTube reviewer is clearly talking about that.\n"
     ]
    }
   ],
   "source": [
    "from selenium import webdriver\n",
    "from bs4 import BeautifulSoup as bs\n",
    "import time\n",
    "import pandas as pd\n",
    "\n",
    "driver=webdriver.Chrome(r'C:\\Program Files (x86)\\Google\\Chrome\\Application\\chromedriver.exe')\n",
    "\n",
    "driver.get('https://www.youtube.com/watch?v=S55hKqMHRs0')\n",
    "\n",
    "driver.execute_script('window.scrollTo(1, 500);')\n",
    "\n",
    "#now wait let load the comments\n",
    "time.sleep(20)\n",
    "\n",
    "driver.execute_script('window.scrollTo(1,3000 );')\n",
    "\n",
    "\n",
    "comments_youtube=[]\n",
    "comment_div=driver.find_element_by_xpath('//*[@id=\"contents\"]')\n",
    "comments=comment_div.find_elements_by_xpath('//*[@id=\"content-text\"]')\n",
    "for comment in comments:\n",
    "    comments_youtube.append(comment.text)\n",
    "\n",
    "for i in comments_youtube:\n",
    "    print(i)\n",
    "    "
   ]
  },
  {
   "cell_type": "code",
   "execution_count": 2,
   "metadata": {},
   "outputs": [
    {
     "name": "stdout",
     "output_type": "stream",
     "text": [
      "                                     Comments_youtube\n",
      "0   What's up Notification Squad! The Mi A3 starts...\n",
      "1   You can't be happy and sad together\\nMi : mia3...\n",
      "2    Apple 10r is accepted for 720p but mi is not lol\n",
      "3      They should make the Google Camera App inbuilt\n",
      "4   Beebom is the MKBHD of India, quality videos o...\n",
      "5               HOW MANY CONFUSED TO BUY SMARTPHONES.\n",
      "6   That would have made it a perfect phone for me...\n",
      "7              0:00 to 0:05...creativity at it's best\n",
      "8   If it was Full HD Amoled display, priced at 14...\n",
      "9   HD+ super AMOLED display is far better than FH...\n",
      "10   Poco F2 should arrive with Android one.\\nPeriod.\n",
      "11  It can protecc\\nIt can attacc\\nBut most import...\n",
      "12  I love your channel, and I am from Portugal 😄....\n",
      "13  Cons: \\nSnapdragon 665\\n\\nPros : everything el...\n",
      "14  Well i don't hate mi A3\\n\\n\\n\\n\\n\\n\\nBut they ...\n",
      "15  2:37 The difference b/w Amoled and IPS LCD. Ma...\n",
      "16  I can live with 720p with AMOLED. It's one of ...\n",
      "17  A3 with full hd+ display ,700 series processer...\n",
      "18  Apple is selling 720 ips display for 50k and p...\n",
      "19  Thankgod. You told clearly about 720p screen.\\...\n"
     ]
    }
   ],
   "source": [
    "comments_dict = {'Comments_youtube':comments_youtube}\n",
    "comments_youtube_df = pd.DataFrame(comments_dict)\n",
    "print(comments_youtube_df)"
   ]
  },
  {
   "cell_type": "code",
   "execution_count": 3,
   "metadata": {},
   "outputs": [
    {
     "name": "stdout",
     "output_type": "stream",
     "text": [
      "(20, 1)\n"
     ]
    }
   ],
   "source": [
    "print(comments_youtube_df.shape)"
   ]
  },
  {
   "cell_type": "markdown",
   "metadata": {},
   "source": [
    "# Web Scraping Instagram Comments using selenium and BeautifulSoup"
   ]
  },
  {
   "cell_type": "code",
   "execution_count": 4,
   "metadata": {},
   "outputs": [],
   "source": [
    "from selenium import webdriver\n",
    "from bs4 import BeautifulSoup as bs\n",
    "import time\n",
    "import re\n",
    "import pandas as pd"
   ]
  },
  {
   "cell_type": "code",
   "execution_count": 5,
   "metadata": {},
   "outputs": [],
   "source": [
    "username='harry.t.baker'  # instagram account handle used in url\n",
    "driver = webdriver.Chrome(r'C:\\Program Files (x86)\\Google\\Chrome\\Application\\chromedriver.exe') # creating an instance of chrome WebDriver.\n",
    "driver.get('https://www.instagram.com/'+username+'/?hl=en') # fully load a moderate dynanmic webpage \n",
    "Pagelength = driver.execute_script(\"window.scrollTo(0, document.body.scrollHeight);\") # scrolling page down to get some data"
   ]
  },
  {
   "cell_type": "code",
   "execution_count": 6,
   "metadata": {},
   "outputs": [],
   "source": [
    "links=[]                          # empty list for links of images\n",
    "source = driver.page_source    # get source of page\n",
    "data = bs(source, 'html.parser')  # sending source page to beautifulsoup object\n",
    "body = data.find('body')        # finding body tag from beautifulsoup object\n",
    "script = body.find('span')      # finding span tag from beautifulsoup object\n",
    "for link in script.findAll('a'): # finding all a tags which contains partial links\n",
    "     if re.match(\"/p\", link.get('href')):  # parsing p tags for getting partial url\n",
    "        links.append('https://www.instagram.com'+link.get('href'))  # appending all full links in links list created at starting"
   ]
  },
  {
   "cell_type": "code",
   "execution_count": 7,
   "metadata": {},
   "outputs": [
    {
     "name": "stdout",
     "output_type": "stream",
     "text": [
      "https://www.instagram.com/p/B1eR4bjDY_z/ \n",
      " [\"The PNWonderland! What's everyone's plans for the weekend?#pnwwonderland #outside_project #discoverearth #exploretocreate #stayandwander #illgrammers #folkscenery #discoverer #landscapelovers #voyaged #artofvisuals #moodygrams #folkgreen #folkgood #neuehorizonte #theactiveway #liveforthestory #fromwhereidrone #roam #roamtheplanet #rsa_outdoors #visualsofearth #discovernature #oregon #sombrescapes #renegade_dark #edgygrams #thedarkpr0ject\", 'Loving the colours man!! 🤘🏼', 'Nothing tbh and that sounds good 👌🏻', 'Epic mate! Going to Wales tomorrow night', 'love this moody vibes 🙏', 'فالویی بک بده', 'Wow! Loving this! 😍', 'What a shot!!!', 'Lovely warm tones dude 👏', 'Awesome man👌🏼', 'Excellent 🙌🏻', '짱이양 호 우 히히', 'So perrrfect pal! What a scene ! HBD dude']\n",
      "https://www.instagram.com/p/B1WmoSejCp9/ \n",
      " [\"A moody Neist Point. Hiii it's me! I took some time away from IG for my own well being, I really appreciate everyone that reached out and supported me! I'll try my best to catch up with everyone now! 😘#scotlandtrip #scotland #simplyscotland #moodygrams #earth_deluxe #outdoortones #greatnorthcollective #folkgreen #folkscenery #folknature #roamearth #exploremore #theglobewanderer #letsgosomewhere #thescottishcollective #travelscotland #highlands #traveling_uk #uk_greatshots #scotlandisnow #renegade_dark #edgygrams #simplyscotland #scotland_greatshots #thisisscotland #unlimitedscotland #explorescotland\", 'Classic location dude👌🏼', 'Wonderful photo @harry.t.baker xx', '@6uyv_ ردي خاصص', 'Holy awesome!', 'Yes the dick picks', 'Unreal coast views 😯😍 so in love', 'Mood mood mood😍', 'Loving the mood dude! Such a stellar shot 😍', 'Such an impressive mood! 🙌', 'Gt', 'Gt', 'Gt']\n",
      "https://www.instagram.com/p/B06MUQXjFix/ \n",
      " [\"The Hermitage, Scotland. When heading to this place I wasn't expecting it to be as busy as it was! I've edited out the rail and all the people!#scotland #VisitScotland #lovescotland #scotlandtrip #thescottishcollective #travelscotland #highlands #traveling_uk #uk_greatshots #scotlandisnow #simplyscotland #moodygrams #earth_deluxe #outdoortones #greatnorthcollective #folkgreen #folkscenery #folknature #roamearth #thescottishcollective #travelscotland #scotlandhighlands #thisisscotland #unlimitedscotland #explorescotland #beautifulscotland #scotlandshots #sonyalpha\", 'Every time I’m tricked into thinking il be the only one. Sick shot 👌', 'Great feed😍👌', 'I’d love to visit more of Scotland 🙌🏼', 'https://share.kashtree.com/register.php?referral=kasandrastokes8', '레알로 ㅎㅎ ㅠㅠ 힝힝  대박이다 갔다', 'Nice photoshopping! Bloody tourists! 😂😂', 'Magical place!', 'Hey I really love your Instagram page🥰 and I already followed you🙈i would be so thankful if you could help me grow🙈🥰have a nice day✌🏻', 'Some kinda Lord Of The Rings vibes going on here....!', '😍😍😍❤️❤️❤️', 'Excellent Harry 🙌🏻', 'Whatsfiliaaa @tlavnia @dix.fany']\n",
      "https://www.instagram.com/p/B01C8SPjbHT/ \n",
      " ['Koosah Falls, say it out loud, so fun to say Kooooosaahh Koossaaaaaaahhhhhh! I only managed 12 backflips off here before I got tired, next time aye!#oregonadventures #pnwhiking #hikingvibes #pnwcollective #pnwwonderland #pnwhikes #wildernessvibes #wildernesslifestyle #wildernessexplorer #outdoortones #greatnorthcollective #folkgreen #folkscenery #folknature #roamearth #exploremore #letsgosomewhere #campvibes #optoutside #liveoutdoors #travelstoke #wildernessnation #modernwild #wildvisuals #thegreatoutdoors #oregonexplored #liveforthestory #pnwcompass #theoutdoorfolk', 'bunu beğendi :) içeriklerimi görmek için profilimi ziyaret edebilirsiniz :) bkrgf7ygv4e', 'Stunning shot Harry, that’s a lot of thundering water🖤', '😂 Amazing man 🤘', '기여엉  뿅간다 겁나 잉잉 짱이다 완전대박', 'I missed this magnificent waterfall Harry.. Absolutely excellent 😍😍👌🏻', '@simaybabalik araaaaa', '@samiii.t.m92 سمانه جواب بده کارت دارم', 'Siamo una nuova page di artiste  seguiteci e non ve ne pentirete', '끝난다 ㅎ 정말로 멋지다 우앙 ㅎㅎ ㅅ.ㅅ', 'Wow!!😍😍😍😍', 'Love a good waterfall and this one looks mega 😍 class shot Harry!', '😍😍']\n",
      "https://www.instagram.com/p/B0yeHX3DZLG/ \n",
      " ['Highland Stag. Being both terrified and stunned at the same time is an odd feeling. The majesty of these beasts gets me everytime!  Imagine having those horns on your head, washing your hair would incur so many splinters!#scotland #VisitScotland #lovescotland #scotlandtrip #sombrescapes #thescottishcollective #travelscotland #highlands #traveling_uk #uk_greatshots #scotlandisnow #simplyscotland #moodygrams #earth_deluxe #outdoortones #greatnorthcollective #folkgreen #folkscenery #folknature #scotland_greatshots #thisisscotland #unlimitedscotland #explorescotland #stag #wildernessculture #artofvisuals #welivetoexplore', '< Her çeşit çanta için sayfamızı ziyaret edin sl4w', 'Diva👼 #GOD is the king of all myths and ideas thus so many stories that arent true and \\'might be\\' true surrounds the name... Maybe not the \"Person\". #Mytheology #GOD #Truth #Vibes #FalseVibeCausesAnger👼 💝#️⃣3️⃣🤳', \"What an awesome shot 😍❤️ you're so talented\", 'this shot is perfect 😍', 'Wow! Amazing to get that shot!❤️❤️', 'THIS IS EPIC 🙌🏼😍', 'Handsome fella😘💜', 'Incredible 🦌', '😍😍', 'Hi ya’ll!!! 👋 I hope this gets seen. I’m an aspiring landscape photographer. If you could like my comment and provide feedback on my work to help me, it would mean the world to me🙌. Much ❤️', 'Awww I love everything about this 😍', 'Fantastic']\n",
      "https://www.instagram.com/p/B0v4loMjI4d/ \n",
      " [\"Latourell Falls, Oregon. Looking back I wish I'd got someone to stand up on the rock here! How was everyone's weekend?#waterfall💦 #pnwphotographer #pnwroamers #pnwhiking #oregonnw #northwestisbest #adventurethatislife #outdoortones #wildernessculture #Wildernesstones #wildernessnation #modernwild #wildvisuals #thegreatoutdoors #wanderlust #folkgreen #folkscenery #folknature #earthoutdoors #dreamingtones #waterfallsfordays #chasingwaterfalls #oregonexplored #oregonadventures #roamerground #getoutside #getoutstayout #exploremore #theglobewanderer\", 'Epic image buddy 👍👍👍', 'Wow impressive😍', '@zaa.hiraa zahira', \"That's a huge waterfall! Amazing man!\", 'Fantastic shot!', '😍Spectacular shot', 'Amazing shot! Verry beautiful. Even without someone standing on the rock ;)', 'Stunning capture', 'This is amazing 😱', 'Fantastically wonderful 💙💙', 'Beautiful', 'Majestic 🌊']\n",
      "https://www.instagram.com/p/B0tWIu_D-7M/ \n",
      " ['Dunalistair Castle.  Would of loved to have walked around this place in its prime! Sadly very derelict now! It was named when the Lord had just done the dirty with his mate Alistair, true story!#scotland #VisitScotland #lovescotland #scotlandtrip #thescottishcollective #travelscotland #highlands #traveling_uk #uk_greatshots #scotlandisnow #renegade_dark #castlesofscotland #castles #moodygrams #sombrescapes #ecletic_shotz #scotland_greatshots #thisisscotland #unlimitedscotland #explorescotland #beautifulscotland #scotlandshots #earth_deluxe #abandonedcastle #bando_hunters #folkscenery', 'Featured! 🏰💙 Stunning shot', 'What a brilliant ruin - as you say would have been amazing to wander round this place in its heyday 👍', '🙌', '😍😍', 'hey! @softiiethreads is having a huge back to school giveaway! go enter!', 'Incredible aerial view! Such a cool looking castle!', 'Get a dog or puppy today', 'Wat?', 'Very beautiful.', '💫 #jj_urbex 💫', 'Fabulous shot! 🔝 And you are so funny 😂', '👍👍👍👍😍']\n",
      "https://www.instagram.com/p/B0oLBUgjLYC/ \n",
      " ['The Rowena Roady. A great spot to spend a morning with a coffee! Also, this road is bendy as fuck guys!#oregonian #rowena #pnwhiking #roamtheplanet #theglobewanderer #liveforthestory #voyaged #ecletic_shotz #dscvr_earth #neuehorizonte #moodygrams #folkscenery #globeshotz #illgrammers #folkgreen #discoverearth #exploretocreate #stayandwander #pnwdiscovered #hubs_united ##wildernessculture #special_shots #wildernessnation #Wildernesstones #dreamingtones #outdoortones #northwestisbest #adventurethatislife', 'What a view! 👍👍', 'The picture that you took with your camera is the imagination you want to create with reality.” — Scott Lorenzo', 'Amazing!', 'Such an awesome shot man 🔥', '🖤', 'Worth it llovía', 'What an awesome view!', 'Amazing 😍😍😍', 'Really beautiful shots 😍🤩', '❤️', '❤️', 'Very Cool! 👍']\n"
     ]
    },
    {
     "name": "stdout",
     "output_type": "stream",
     "text": [
      "https://www.instagram.com/p/B0jCvybD5jG/ \n",
      " ['Haystack Rock, Oregon. I wonder why these big land masses refuse to recede with the mainland? I also wonder why i backflips far more impressive than front flips? Conundrum!#pnwwonderland #outside_project #discoverearth #exploretocreate #stayandwander #illgrammers #folkscenery #discoverer #landscapelovers #voyaged #artofvisuals #moodygrams #folkgreen #folkgood #neuehorizonte #theactiveway #liveforthestory #fromwhereidrone #roam #roamtheplanet #rsa_outdoors #visualsofearth #discovernature #oregon #dji #liveadventurously #weroamabroad #Wildernesstones #wonderful_places', 'Love the minimalism man😍 super scale', 'Great shot mate', 'Simply stunning Harry 💛💛', 'What an awesome looking place. #scalegoals', 'Such a calm surreal shot man, really nice stuff! 👌', 'Beautiful if only the light was like that forever. 😍', 'Wow love the drone take on this! awesome shot man', 'Beautiful beach that is man! I guess backflips are harder?', 'Wow that just amazing.❤️', '🙌😍❤️🍎X', 'Beautiful shot!', 'beautiful beach 🙏😍']\n",
      "https://www.instagram.com/p/B0bQT6YDLyf/ \n",
      " ['The Cabin in the Woods. Another place in Oregon state that I just happened across, no clue where it be! It was near some trees if that helps!', 'Days gone', 'That orange lighting is so cosy man! 🔥', 'Amazing shot and feed!', 'Awesome House!', 'Great framing Harry 😃👍🏻', 'If a picture could tell a story 😍 epic cabin!', 'What a find man! Looks a dream 😍', 'Sick framing man!', 'Loving the framing and that light, man 🙏🏻', 'This is great dude!', 'Proper cosy cabin!', 'Such an amazing picture ! Stunning colors 😍😍😍']\n",
      "https://www.instagram.com/p/B0Ym4pGjb8b/ \n",
      " [\"Glencooooooeeeee. So this image isn't the colour I want, 🤦\\u200d♂️ I've just switched to using a Mac as my main editing machine but the colours look so different from phone to Mac! Are you seeing yellow or orange more?\", 'You have to change the colour profile in photoshop mate, and make sure your Mac is actually set the right one for the screen to start off with haha, but either way looks good to me!', 'Amazing shot 😍', 'That sweeping road is magic mate.👌', 'I see blue and orange and I like it a whole lot 😭♥️', 'Check to make sure your editing it on sRGB!!', 'Beautiful moody shot! ❤️', 'Love it💙🏴\\U000e0067\\U000e0062\\U000e0073\\U000e0063\\U000e0074\\U000e007f🇳🇴', 'It can only be the A82😀 cracker mate👍👍', 'Nice shot! Love this stretch of road!', 'Orange. And it looks fine. You’ll get used to the change soon 😊', 'Orange. And it looks fine. You’ll get used to the change soon 😊', 'Stunning']\n",
      "https://www.instagram.com/p/B0Q_GqUDOI1/ \n",
      " [\"Oregon somewhere, I can't for the life of my remember where! 🤦\\u200d♂️ Need to remember to write things down!\", 'Great shot. Isn’t this Lake Trillium with Mt. hood on the backdrop?', 'What a beaut!😍😍', '🆒💟💟💟💟', 'Wow greaaat', 'Love this frame 🔥🙌🏻', 'Nice photo!', '💛', 'So beautiful! Love the golden trees! Great shot', 'What a beaut 😍', 'Very beautiful.', '@sanika_.pvt._', '@michelbeltrans']\n"
     ]
    }
   ],
   "source": [
    "comments_instagram={}  # empty dictionary\n",
    "\n",
    "for link in links[:]:   # iterating through 10 links using for loop\n",
    "    driver.get(link)  # fully load a moderate dynanmic webpage\n",
    "    res = driver.execute_script('return document.documentElement.outerHTML') # saving all source of all to variable\n",
    "    soup = bs(res,'html.parser')  #  creating a beautifulsoup object using source page variable created above\n",
    "    divs = soup.find_all( 'div', {'class': 'C4VMK'}) # finding all div tags with a class attribute from beautifulsoup object\n",
    "\n",
    "    # iterating through all div tags and getting span tag text using for loop\n",
    "    comment_insta=[]\n",
    "    for div in divs[0:]:       # iterating through all div tags using for loop\n",
    "        spans = div.find_all('span') # finding span tags which are within div tag  with a class attribute\n",
    "        \n",
    "        for span in spans:            # iterating over spans variable to get requuired text\n",
    "            comment_insta.append(span.text)  # saving cleaned comments in comments list\n",
    "\n",
    "\n",
    "        \n",
    "    print(link,'\\n',comment_insta)\n",
    "    comments_instagram.update({link:comment_insta})\n",
    "    \n",
    "    \n",
    "    time.sleep(20) # putting some sleep time between every loop      "
   ]
  },
  {
   "cell_type": "code",
   "execution_count": 8,
   "metadata": {},
   "outputs": [
    {
     "name": "stdout",
     "output_type": "stream",
     "text": [
      "https://www.instagram.com/p/B1eR4bjDY_z/  0     The PNWonderland! What's everyone's plans for ...\n",
      "                                          1                           Loving the colours man!! 🤘🏼\n",
      "                                          2                   Nothing tbh and that sounds good 👌🏻\n",
      "                                          3              Epic mate! Going to Wales tomorrow night\n",
      "                                          4                               love this moody vibes 🙏\n",
      "                                          5                                         فالویی بک بده\n",
      "                                          6                                   Wow! Loving this! 😍\n",
      "                                          7                                        What a shot!!!\n",
      "                                          8                              Lovely warm tones dude 👏\n",
      "                                          9                                         Awesome man👌🏼\n",
      "                                          10                                         Excellent 🙌🏻\n",
      "                                          11                                           짱이양 호 우 히히\n",
      "                                          12            So perrrfect pal! What a scene ! HBD dude\n",
      "https://www.instagram.com/p/B1WmoSejCp9/  0     A moody Neist Point. Hiii it's me! I took some...\n",
      "                                          1                               Classic location dude👌🏼\n",
      "                                          2                     Wonderful photo @harry.t.baker xx\n",
      "                                          3                                       @6uyv_ ردي خاصص\n",
      "                                          4                                         Holy awesome!\n",
      "                                          5                                    Yes the dick picks\n",
      "                                          6                      Unreal coast views 😯😍 so in love\n",
      "                                          7                                       Mood mood mood😍\n",
      "                                          8           Loving the mood dude! Such a stellar shot 😍\n",
      "                                          9                            Such an impressive mood! 🙌\n",
      "                                          10                                                   Gt\n",
      "                                          11                                                   Gt\n",
      "                                          12                                                   Gt\n",
      "https://www.instagram.com/p/B06MUQXjFix/  0     The Hermitage, Scotland. When heading to this ...\n",
      "                                          1     Every time I’m tricked into thinking il be the...\n",
      "                                          2                                          Great feed😍👌\n",
      "                                          3                 I’d love to visit more of Scotland 🙌🏼\n",
      "                                                                      ...                        \n",
      "https://www.instagram.com/p/B0bQT6YDLyf/  9             Loving the framing and that light, man 🙏🏻\n",
      "                                          10                                  This is great dude!\n",
      "                                          11                                   Proper cosy cabin!\n",
      "                                          12        Such an amazing picture ! Stunning colors 😍😍😍\n",
      "https://www.instagram.com/p/B0Ym4pGjb8b/  0     Glencooooooeeeee. So this image isn't the colo...\n",
      "                                          1     You have to change the colour profile in photo...\n",
      "                                          2                                        Amazing shot 😍\n",
      "                                          3                    That sweeping road is magic mate.👌\n",
      "                                          4     I see blue and orange and I like it a whole lo...\n",
      "                                          5          Check to make sure your editing it on sRGB!!\n",
      "                                          6                              Beautiful moody shot! ❤️\n",
      "                                          7                                     Love it💙🏴󠁧󠁢󠁳󠁣󠁴󠁿🇳🇴\n",
      "                                          8                It can only be the A82😀 cracker mate👍👍\n",
      "                                          9                 Nice shot! Love this stretch of road!\n",
      "                                          10    Orange. And it looks fine. You’ll get used to ...\n",
      "                                          11    Orange. And it looks fine. You’ll get used to ...\n",
      "                                          12                                             Stunning\n",
      "https://www.instagram.com/p/B0Q_GqUDOI1/  0     Oregon somewhere, I can't for the life of my r...\n",
      "                                          1     Great shot. Isn’t this Lake Trillium with Mt. ...\n",
      "                                          2                                       What a beaut!😍😍\n",
      "                                          3                                                 🆒💟💟💟💟\n",
      "                                          4                                           Wow greaaat\n",
      "                                          5                                   Love this frame 🔥🙌🏻\n",
      "                                          6                                           Nice photo!\n",
      "                                          7                                                     💛\n",
      "                                          8       So beautiful! Love the golden trees! Great shot\n",
      "                                          9                                        What a beaut 😍\n",
      "                                          10                                      Very beautiful.\n",
      "                                          11                                       @sanika_.pvt._\n",
      "                                          12                                      @michelbeltrans\n",
      "Length: 156, dtype: object\n"
     ]
    }
   ],
   "source": [
    "Comments_instagram_df = pd.DataFrame.from_dict(comments_instagram, orient = \"index\").stack()\n",
    "print(Comments_instagram_df)"
   ]
  },
  {
   "cell_type": "code",
   "execution_count": 9,
   "metadata": {},
   "outputs": [],
   "source": [
    "Comments_instagram_df.to_csv(r'C:\\Users\\satish rawat\\comments_instagram.csv')\n",
    "comments_youtube_df.to_csv(r'C:\\Users\\satish rawat\\comments_youtube.csv')"
   ]
  },
  {
   "cell_type": "code",
   "execution_count": null,
   "metadata": {},
   "outputs": [],
   "source": []
  }
 ],
 "metadata": {
  "kernelspec": {
   "display_name": "Python 3",
   "language": "python",
   "name": "python3"
  },
  "language_info": {
   "codemirror_mode": {
    "name": "ipython",
    "version": 3
   },
   "file_extension": ".py",
   "mimetype": "text/x-python",
   "name": "python",
   "nbconvert_exporter": "python",
   "pygments_lexer": "ipython3",
   "version": "3.7.1"
  }
 },
 "nbformat": 4,
 "nbformat_minor": 2
}
